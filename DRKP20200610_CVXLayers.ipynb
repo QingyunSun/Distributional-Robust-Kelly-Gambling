{
  "nbformat": 4,
  "nbformat_minor": 0,
  "metadata": {
    "colab": {
      "name": "DRKP20200610_CVXLayers",
      "provenance": [],
      "collapsed_sections": [],
      "include_colab_link": true
    },
    "kernelspec": {
      "name": "python3",
      "display_name": "Python 3"
    },
    "accelerator": "TPU"
  },
  "cells": [
    {
      "cell_type": "markdown",
      "metadata": {
        "id": "view-in-github",
        "colab_type": "text"
      },
      "source": [
        "<a href=\"https://colab.research.google.com/github/QingyunSun/Distributional-Robust-Kelly-Gambling/blob/master/DRKP20200610_CVXLayers.ipynb\" target=\"_parent\"><img src=\"https://colab.research.google.com/assets/colab-badge.svg\" alt=\"Open In Colab\"/></a>"
      ]
    },
    {
      "cell_type": "code",
      "metadata": {
        "id": "0wJtnd39Giza",
        "colab_type": "code",
        "outputId": "43d14a9f-057e-467c-d491-4490b4841425",
        "colab": {
          "base_uri": "https://localhost:8080/",
          "height": 157
        }
      },
      "source": [
        "!pip install --upgrade cvxpy\n",
        "\n",
        "get_ipython().run_line_magic('pylab', 'inline')\n",
        "import numpy as np\n",
        "import cvxpy as cvx\n",
        "import itertools\n",
        "import torch\n",
        "from tqdm.notebook import tqdm\n",
        "\n",
        "\n"
      ],
      "execution_count": 1,
      "outputs": [
        {
          "output_type": "stream",
          "text": [
            "Requirement already up-to-date: cvxpy in /usr/local/lib/python3.6/dist-packages (1.1.1)\n",
            "Requirement already satisfied, skipping upgrade: numpy>=1.15 in /usr/local/lib/python3.6/dist-packages (from cvxpy) (1.18.5)\n",
            "Requirement already satisfied, skipping upgrade: osqp>=0.4.1 in /usr/local/lib/python3.6/dist-packages (from cvxpy) (0.6.1)\n",
            "Requirement already satisfied, skipping upgrade: scs>=1.1.3 in /usr/local/lib/python3.6/dist-packages (from cvxpy) (2.1.2)\n",
            "Requirement already satisfied, skipping upgrade: ecos>=2 in /usr/local/lib/python3.6/dist-packages (from cvxpy) (2.0.7.post1)\n",
            "Requirement already satisfied, skipping upgrade: scipy>=1.1.0 in /usr/local/lib/python3.6/dist-packages (from cvxpy) (1.4.1)\n",
            "Requirement already satisfied, skipping upgrade: future in /usr/local/lib/python3.6/dist-packages (from osqp>=0.4.1->cvxpy) (0.16.0)\n",
            "Populating the interactive namespace from numpy and matplotlib\n"
          ],
          "name": "stdout"
        }
      ]
    },
    {
      "cell_type": "code",
      "metadata": {
        "id": "78Gnk_XiZiuJ",
        "colab_type": "code",
        "colab": {
          "base_uri": "https://localhost:8080/",
          "height": 34
        },
        "outputId": "3b17b14f-97cd-431d-9d8a-6b6545689943"
      },
      "source": [
        "cvx.__version__"
      ],
      "execution_count": 2,
      "outputs": [
        {
          "output_type": "execute_result",
          "data": {
            "text/plain": [
              "'1.1.1'"
            ]
          },
          "metadata": {
            "tags": []
          },
          "execution_count": 2
        }
      ]
    },
    {
      "cell_type": "code",
      "metadata": {
        "id": "1sKC8oiWwewc",
        "colab_type": "code",
        "colab": {}
      },
      "source": [
        "\n",
        "n = 20 # number of assets\n",
        "K = int(n*(n-1)/2)# number of scenarios\n",
        "\n",
        "# Monte Carlo sample\n",
        "MC_N_SAMPLES = 100\n",
        "MC_T = 50\n",
        "\n",
        "N_TRAJ = 30\n",
        "\n",
        "M = 1\n",
        "\n",
        "import cvxpy as cvx\n",
        "from cvxpylayers.torch import CvxpyLayer\n",
        "# generate_ball_problem\n",
        "pi_0 = cvx.Parameter(K, nonneg=True)\n",
        "# rho_log = cvx.Parameter(K)\n",
        "# rho = cvx.exp(rho_log)\n",
        "rho = cvx.Parameter(K, nonneg=True)\n",
        "R_cvx = cvx.Parameter((n,K), nonneg=True)\n",
        "\n",
        "\n",
        "b = cvx.Variable(n)\n",
        "mu = cvx.Variable(K)\n",
        "log_growth = cvx.log(R_cvx.T@b )\n",
        "rob_growth_rate = cvx.min(log_growth + mu  )\n",
        "rob_growth_rate = rob_growth_rate - pi_0.T@mu - rho.T@cvx.abs(mu)\n",
        "constraints = [cvx.sum(b) == 1, b >= 0] \n",
        "DRKP = cvx.Problem(cvx.Maximize(rob_growth_rate), constraints)\n",
        "\n",
        "problem = DRKP\n",
        "parameters=[R_cvx, pi_0, rho]\n",
        "\n",
        "# assert problem.is_dcp()\n",
        "policy =  CvxpyLayer(problem, parameters, [b])"
      ],
      "execution_count": 0,
      "outputs": []
    },
    {
      "cell_type": "code",
      "metadata": {
        "id": "6g4S2BbSgopp",
        "colab_type": "code",
        "colab": {
          "base_uri": "https://localhost:8080/",
          "height": 34
        },
        "outputId": "a9a3bf09-e9ba-40e5-8f72-ca1f193a09b3"
      },
      "source": [
        "# # Definitions \n",
        "def softmax(x):\n",
        "    \"\"\"Compute softmax values for each sets of scores in x.\"\"\"\n",
        "    e_x = np.exp(x - np.max(x))\n",
        "    return e_x / e_x.sum()\n",
        "    \n",
        "std = 0.5\n",
        "seed = 2018\n",
        "print('seed', seed)\n",
        "np.random.seed(seed)\n",
        "skill = np.random.randn(n)\n",
        "beta = softmax( std*(skill))\n",
        "\n",
        "\n",
        "TopTwoList = list(itertools.combinations(range(n),2))\n",
        "\n",
        "pi = np.ones(K)\n",
        "r = np.zeros((n,K))\n",
        "\n",
        "for count in range(len(TopTwoList)):\n",
        "    vector = np.zeros(n)\n",
        "    first_place = TopTwoList[count][0]\n",
        "    second_place = TopTwoList[count][1]\n",
        "    total = beta[first_place]+beta[second_place]\n",
        "    vector[first_place] = n*beta[second_place]/total\n",
        "    vector[second_place] = n*beta[first_place]/total\n",
        "    r[:,count]=vector\n",
        "\n",
        "    pi[count] = beta[second_place]*beta[first_place]*(1/(1-beta[first_place])+ 1/(1-beta[second_place]))\n",
        "    \n",
        "pi /= sum(pi)\n",
        "pi_horse = pi.copy()\n",
        "\n",
        "mc_index = np.random.choice(r.shape[1], size = MC_N_SAMPLES * MC_T, p = pi)\n",
        "T = MC_N_SAMPLES * MC_T\n",
        "R = r.copy()"
      ],
      "execution_count": 5,
      "outputs": [
        {
          "output_type": "stream",
          "text": [
            "seed 2018\n"
          ],
          "name": "stdout"
        }
      ]
    },
    {
      "cell_type": "code",
      "metadata": {
        "id": "5m83mfWyZ7M-",
        "colab_type": "code",
        "colab": {}
      },
      "source": [
        "# #repeatable initialize\n",
        "# log_pi_init = np.log(pi_horse) + 0.01*np.random.randn(K)\n",
        "# pi_0_init = softmax(log_pi_init)"
      ],
      "execution_count": 0,
      "outputs": []
    },
    {
      "cell_type": "code",
      "metadata": {
        "id": "tlOoe1Urk_IL",
        "colab_type": "code",
        "colab": {}
      },
      "source": [
        "# plot(np.log(pi_horse)[order],'.' )"
      ],
      "execution_count": 0,
      "outputs": []
    },
    {
      "cell_type": "code",
      "metadata": {
        "id": "2COOfROn41-I",
        "colab_type": "code",
        "colab": {
          "base_uri": "https://localhost:8080/",
          "height": 34
        },
        "outputId": "367d2757-8392-4397-c7fb-6dedb2d2710a"
      },
      "source": [
        "seed = 2020\n",
        "print('seed', seed)\n",
        "np.random.seed(seed)\n",
        "NUM_TEST = 20\n",
        "pi_test_list = []\n",
        "for count in range(NUM_TEST):\n",
        "    skill_test = np.random.randn(n)\n",
        "    std = 1\n",
        "    beta = softmax( std*(skill_test))\n",
        "\n",
        "\n",
        "    TopTwoList = list(itertools.combinations(range(n),2))\n",
        "\n",
        "    pi = np.ones(K)\n",
        "    r = np.zeros((n,K))\n",
        "\n",
        "    for count in range(len(TopTwoList)):\n",
        "        vector = np.zeros(n)\n",
        "        first_place = TopTwoList[count][0]\n",
        "        second_place = TopTwoList[count][1]\n",
        "        total = beta[first_place]+beta[second_place]\n",
        "        vector[first_place] = n*beta[second_place]/total\n",
        "        vector[second_place] = n*beta[first_place]/total\n",
        "        r[:,count]=vector\n",
        "\n",
        "        pi[count] = beta[second_place]*beta[first_place]*(1/(1-beta[first_place])+ 1/(1-beta[second_place]))\n",
        "        \n",
        "    pi /= sum(pi)\n",
        "    pi_test_list.append( pi.copy() )\n",
        "\n",
        "Pi_test = np.stack( pi_test_list ,axis=0)   "
      ],
      "execution_count": 6,
      "outputs": [
        {
          "output_type": "stream",
          "text": [
            "seed 2020\n"
          ],
          "name": "stdout"
        }
      ]
    },
    {
      "cell_type": "code",
      "metadata": {
        "id": "q2PDi3bv4yLT",
        "colab_type": "code",
        "colab": {
          "base_uri": "https://localhost:8080/",
          "height": 982
        },
        "outputId": "2a2dab06-1521-411d-d9bf-e10abbbc23d9"
      },
      "source": [
        "# Initialize:\n",
        "Rho = torch.from_numpy(np.ones(K)*1e-4).requires_grad_(True)\n",
        "log_Pi_0 = torch.from_numpy(np.zeros(K)).requires_grad_(True)\n",
        "torch_variables = [log_Pi_0, Rho]\n",
        "R_torch = torch.from_numpy(R)\n",
        "Pi_test_torch = torch.from_numpy(Pi_test)\n",
        "# Loss: \n",
        "def evaluate( R_torch, log_Pi_0, Rho, Pi_test_torch):\n",
        "    Pi_0 = torch.nn.functional.softmax(log_Pi_0)\n",
        "    b, = policy(R_torch, Pi_0, Rho)\n",
        "    logs = torch.log(R_torch.T @ b)\n",
        "    cost = - torch.sum(Pi_test_torch*logs[None,:])\n",
        "    return   cost\n",
        "\n",
        "# Training:\n",
        "iters = 50\n",
        "results = []\n",
        "optimizer = torch.optim.Adam(torch_variables, lr=1e-4)\n",
        "for i in range(iters):\n",
        "    optimizer.zero_grad()\n",
        "    loss = evaluate(R_torch, log_Pi_0, Rho, Pi_test_torch)\n",
        "    loss.backward()\n",
        "    optimizer.step()\n",
        "    # Project so that Rho is non-negative \n",
        "    Rho.data = torch.max(Rho.data,torch.zeros_like(Rho.data))\n",
        "    results.append(loss.item())\n",
        "    print(\"(iter %d) loss: %g \" % (i, results[-1]))\n",
        " "
      ],
      "execution_count": 100,
      "outputs": [
        {
          "output_type": "stream",
          "text": [
            "/usr/local/lib/python3.6/dist-packages/ipykernel_launcher.py:9: UserWarning: Implicit dimension choice for softmax has been deprecated. Change the call to include dim=X as an argument.\n",
            "  if __name__ == '__main__':\n"
          ],
          "name": "stderr"
        },
        {
          "output_type": "stream",
          "text": [
            "(iter 0) loss: -1.14347 \n",
            "(iter 1) loss: -1.13211 \n",
            "(iter 2) loss: -1.10964 \n",
            "(iter 3) loss: -1.09212 \n",
            "(iter 4) loss: -1.07848 \n",
            "(iter 5) loss: -1.06195 \n",
            "(iter 6) loss: -1.04391 \n",
            "(iter 7) loss: -1.03077 \n",
            "(iter 8) loss: -1.01777 \n",
            "(iter 9) loss: -1.00525 \n",
            "(iter 10) loss: -0.99304 \n",
            "(iter 11) loss: -0.980782 \n",
            "(iter 12) loss: -0.968752 \n",
            "(iter 13) loss: -0.95688 \n",
            "(iter 14) loss: -0.946428 \n",
            "(iter 15) loss: -0.939755 \n",
            "(iter 16) loss: -0.933321 \n",
            "(iter 17) loss: -0.927832 \n",
            "(iter 18) loss: -0.921649 \n",
            "(iter 19) loss: -0.914931 \n",
            "(iter 20) loss: -0.907836 \n",
            "(iter 21) loss: -0.9 \n",
            "(iter 22) loss: -0.891298 \n",
            "(iter 23) loss: -0.88185 \n",
            "(iter 24) loss: -0.872014 \n",
            "(iter 25) loss: -0.865928 \n",
            "(iter 26) loss: -0.865537 \n",
            "(iter 27) loss: -0.865297 \n",
            "(iter 28) loss: -0.865084 \n",
            "(iter 29) loss: -0.864906 \n",
            "(iter 30) loss: -0.864767 \n",
            "(iter 31) loss: -0.864636 \n",
            "(iter 32) loss: -0.864569 \n",
            "(iter 33) loss: -0.864526 \n",
            "(iter 34) loss: -0.864578 \n",
            "(iter 35) loss: -0.864662 \n",
            "(iter 36) loss: -0.864824 \n",
            "(iter 37) loss: -0.865325 \n",
            "(iter 38) loss: -0.86638 \n",
            "(iter 39) loss: -0.866862 \n",
            "(iter 40) loss: -0.867192 \n",
            "(iter 41) loss: -0.866469 \n",
            "(iter 42) loss: -0.865678 \n"
          ],
          "name": "stdout"
        },
        {
          "output_type": "stream",
          "text": [
            "/usr/local/lib/python3.6/dist-packages/diffcp/cone_program.py:259: UserWarning: Solved/Inaccurate.\n",
            "  warnings.warn(\"Solved/Inaccurate.\")\n"
          ],
          "name": "stderr"
        },
        {
          "output_type": "stream",
          "text": [
            "(iter 43) loss: -0.864674 \n",
            "(iter 44) loss: -0.863716 \n",
            "(iter 45) loss: -0.863231 \n",
            "(iter 46) loss: -0.862746 \n",
            "(iter 47) loss: -0.862518 \n",
            "(iter 48) loss: -0.862179 \n",
            "(iter 49) loss: -0.861665 \n"
          ],
          "name": "stdout"
        }
      ]
    },
    {
      "cell_type": "code",
      "metadata": {
        "id": "ZHKoiCaz0EIQ",
        "colab_type": "code",
        "colab": {
          "base_uri": "https://localhost:8080/",
          "height": 285
        },
        "outputId": "ba9c7272-fde8-4050-b548-bbdae263c81a"
      },
      "source": [
        "plt.plot(results,'.')"
      ],
      "execution_count": 101,
      "outputs": [
        {
          "output_type": "execute_result",
          "data": {
            "text/plain": [
              "[<matplotlib.lines.Line2D at 0x7f6958e665c0>]"
            ]
          },
          "metadata": {
            "tags": []
          },
          "execution_count": 101
        },
        {
          "output_type": "display_data",
          "data": {
            "image/png": "[encoded data removed]",
            "text/plain": [
              "<Figure size 432x288 with 1 Axes>"
            ]
          },
          "metadata": {
            "tags": [],
            "needs_background": "light"
          }
        }
      ]
    },
    {
      "cell_type": "code",
      "metadata": {
        "id": "NP0QtfD45fby",
        "colab_type": "code",
        "colab": {
          "base_uri": "https://localhost:8080/",
          "height": 337
        },
        "outputId": "411a4f5f-7ee3-4c0b-958f-de1f9df301b4"
      },
      "source": [
        "# order = np.argsort(pi_horse)[::-1]\n",
        "Pi_0 = torch.nn.functional.softmax(log_Pi_0)\n",
        "pi_0_trained = Pi_0.detach().numpy()\n",
        "\n",
        "order_trained = np.argsort(pi_0_trained)[::-1]\n",
        "\n",
        "rho_trained = Rho.detach().numpy()\n",
        "\n",
        "pi_0_trained_upper = pi_0_trained+rho_trained\n",
        "pi_0_trained_lower = pi_0_trained-rho_trained\n",
        "\n",
        "plt.plot(  pi_0_trained[order_trained] , '.', label='pi nominal trained')\n",
        "\n"
      ],
      "execution_count": 115,
      "outputs": [
        {
          "output_type": "stream",
          "text": [
            "/usr/local/lib/python3.6/dist-packages/ipykernel_launcher.py:2: UserWarning: Implicit dimension choice for softmax has been deprecated. Change the call to include dim=X as an argument.\n",
            "  \n"
          ],
          "name": "stderr"
        },
        {
          "output_type": "execute_result",
          "data": {
            "text/plain": [
              "[<matplotlib.lines.Line2D at 0x7f6958896cf8>]"
            ]
          },
          "metadata": {
            "tags": []
          },
          "execution_count": 115
        },
        {
          "output_type": "display_data",
          "data": {
            "image/png": "[encoded data removed]",
            "text/plain": [
              "<Figure size 432x288 with 1 Axes>"
            ]
          },
          "metadata": {
            "tags": [],
            "needs_background": "light"
          }
        }
      ]
    },
    {
      "cell_type": "code",
      "metadata": {
        "id": "dMZAz30jBjAo",
        "colab_type": "code",
        "colab": {
          "base_uri": "https://localhost:8080/",
          "height": 265
        },
        "outputId": "30d3519b-8005-49c6-a01f-a4db0325a854"
      },
      "source": [
        "plt.subplot()\n",
        "width = 2\n",
        "barWidth = 0.9\n",
        "\n",
        "order = np.argsort(pi)[::-1]\n",
        "plt.errorbar( np.arange(1, K+1 ) , pi_0_trained[order_trained], yerr= pi_0_trained[order_trained]*rho_trained[order_trained], label = 'Trained pi_nom' )\n",
        "\n",
        "plt.legend(bbox_to_anchor=(1.05, 1), loc=2, borderaxespad=0.)\n",
        "\n",
        "plt.show()"
      ],
      "execution_count": 144,
      "outputs": [
        {
          "output_type": "display_data",
          "data": {
            "image/png": "[encoded data removed]",
            "text/plain": [
              "<Figure size 432x288 with 1 Axes>"
            ]
          },
          "metadata": {
            "tags": [],
            "needs_background": "light"
          }
        }
      ]
    },
    {
      "cell_type": "code",
      "metadata": {
        "id": "84Smnu53_n1E",
        "colab_type": "code",
        "colab": {
          "base_uri": "https://localhost:8080/",
          "height": 34
        },
        "outputId": "bf7d556f-9413-4597-efb5-8d4e4aee6fd2"
      },
      "source": [
        "seed = 2020\n",
        "print('seed', seed)\n",
        "np.random.seed(seed)\n",
        "NUM_TEST = 20\n",
        "pi_test_list = []\n",
        "for count in range(NUM_TEST):\n",
        "    skill_test = np.random.randn(n)\n",
        "    std = 0.5\n",
        "    beta = softmax( std*(skill_test))\n",
        "\n",
        "\n",
        "    TopTwoList = list(itertools.combinations(range(n),2))\n",
        "\n",
        "    pi = np.ones(K)\n",
        "    r = np.zeros((n,K))\n",
        "\n",
        "    for count in range(len(TopTwoList)):\n",
        "        vector = np.zeros(n)\n",
        "        first_place = TopTwoList[count][0]\n",
        "        second_place = TopTwoList[count][1]\n",
        "        total = beta[first_place]+beta[second_place]\n",
        "        vector[first_place] = n*beta[second_place]/total\n",
        "        vector[second_place] = n*beta[first_place]/total\n",
        "        r[:,count]=vector\n",
        "\n",
        "        pi[count] = beta[second_place]*beta[first_place]*(1/(1-beta[first_place])+ 1/(1-beta[second_place]))\n",
        "        \n",
        "    pi /= sum(pi)\n",
        "    pi_test_list.append( pi.copy() )\n",
        "\n",
        "Pi_test = np.stack( pi_test_list ,axis=0)   "
      ],
      "execution_count": 135,
      "outputs": [
        {
          "output_type": "stream",
          "text": [
            "seed 2020\n"
          ],
          "name": "stdout"
        }
      ]
    },
    {
      "cell_type": "code",
      "metadata": {
        "id": "8sEHCQpJBS3X",
        "colab_type": "code",
        "colab": {
          "base_uri": "https://localhost:8080/",
          "height": 1000
        },
        "outputId": "104e87dd-b017-4398-e5ea-2f2106c5c01f"
      },
      "source": [
        "\n",
        "# Initialize:\n",
        "Rho = torch.from_numpy(np.ones(K)*1e-4).requires_grad_(True)\n",
        "log_Pi_0 = torch.from_numpy(np.log(np.mean(Pi_test, axis=0)) ).requires_grad_(True)\n",
        "torch_variables = [log_Pi_0, Rho]\n",
        "R_torch = torch.from_numpy(R)\n",
        "Pi_test_torch = torch.from_numpy(Pi_test)\n",
        "# Loss: \n",
        "def evaluate( R_torch, log_Pi_0, Rho, Pi_test_torch):\n",
        "    Pi_0 = torch.nn.functional.softmax(log_Pi_0)\n",
        "    b, = policy(R_torch, Pi_0, Rho)\n",
        "    logs = torch.log(R_torch.T @ b)\n",
        "    cost = - torch.sum(Pi_test_torch*logs[None,:])\n",
        "    return   cost\n",
        "\n",
        "# Training:\n",
        "iters = 100\n",
        "results = []\n",
        "optimizer = torch.optim.Adam(torch_variables, lr=1e-4)\n",
        "for i in range(iters):\n",
        "    optimizer.zero_grad()\n",
        "    loss = evaluate(R_torch, log_Pi_0, Rho, Pi_test_torch)\n",
        "    loss.backward()\n",
        "    optimizer.step()\n",
        "    # Project so that Rho is non-negative \n",
        "    Rho.data = torch.max(Rho.data,torch.zeros_like(Rho.data))\n",
        "    results.append(loss.item())\n",
        "    print(\"(iter %d) loss: %g \" % (i, results[-1]))\n",
        " "
      ],
      "execution_count": 7,
      "outputs": [
        {
          "output_type": "stream",
          "text": [
            "/usr/local/lib/python3.6/dist-packages/ipykernel_launcher.py:10: UserWarning: Implicit dimension choice for softmax has been deprecated. Change the call to include dim=X as an argument.\n",
            "  # Remove the CWD from sys.path while we load stuff.\n"
          ],
          "name": "stderr"
        },
        {
          "output_type": "stream",
          "text": [
            "(iter 0) loss: -1.95276 \n",
            "(iter 1) loss: -1.95445 \n",
            "(iter 2) loss: -1.95436 \n",
            "(iter 3) loss: -1.9542 \n",
            "(iter 4) loss: -1.95402 \n"
          ],
          "name": "stdout"
        },
        {
          "output_type": "stream",
          "text": [
            "/usr/local/lib/python3.6/dist-packages/diffcp/cone_program.py:259: UserWarning: Solved/Inaccurate.\n",
            "  warnings.warn(\"Solved/Inaccurate.\")\n"
          ],
          "name": "stderr"
        },
        {
          "output_type": "stream",
          "text": [
            "(iter 5) loss: -1.95366 \n",
            "(iter 6) loss: -1.95328 \n",
            "(iter 7) loss: -1.95284 \n",
            "(iter 8) loss: -1.95233 \n",
            "(iter 9) loss: -1.95179 \n",
            "(iter 10) loss: -1.95147 \n",
            "(iter 11) loss: -1.9513 \n",
            "(iter 12) loss: -1.95115 \n",
            "(iter 13) loss: -1.95099 \n",
            "(iter 14) loss: -1.95083 \n",
            "(iter 15) loss: -1.95065 \n",
            "(iter 16) loss: -1.95047 \n",
            "(iter 17) loss: -1.95029 \n",
            "(iter 18) loss: -1.9501 \n",
            "(iter 19) loss: -1.94989 \n",
            "(iter 20) loss: -1.9497 \n",
            "(iter 21) loss: -1.94948 \n",
            "(iter 22) loss: -1.94923 \n",
            "(iter 23) loss: -1.94898 \n",
            "(iter 24) loss: -1.94872 \n",
            "(iter 25) loss: -1.94842 \n",
            "(iter 26) loss: -1.94826 \n",
            "(iter 27) loss: -1.9481 \n",
            "(iter 28) loss: -1.94794 \n",
            "(iter 29) loss: -1.94778 \n",
            "(iter 30) loss: -1.9476 \n",
            "(iter 31) loss: -1.94743 \n",
            "(iter 32) loss: -1.94725 \n",
            "(iter 33) loss: -1.94706 \n",
            "(iter 34) loss: -1.94686 \n",
            "(iter 35) loss: -1.94665 \n",
            "(iter 36) loss: -1.94656 \n",
            "(iter 37) loss: -1.94659 \n",
            "(iter 38) loss: -1.94655 \n",
            "(iter 39) loss: -1.9465 \n",
            "(iter 40) loss: -1.94647 \n",
            "(iter 41) loss: -1.94646 \n",
            "(iter 42) loss: -1.94643 \n",
            "(iter 43) loss: -1.94638 \n",
            "(iter 44) loss: -1.94634 \n",
            "(iter 45) loss: -1.94629 \n",
            "(iter 46) loss: -1.94624 \n",
            "(iter 47) loss: -1.94619 \n",
            "(iter 48) loss: -1.94615 \n",
            "(iter 49) loss: -1.94622 \n",
            "(iter 50) loss: -1.94621 \n",
            "(iter 51) loss: -1.9461 \n",
            "(iter 52) loss: -1.94596 \n",
            "(iter 53) loss: -1.94579 \n",
            "(iter 54) loss: -1.94571 \n",
            "(iter 55) loss: -1.94565 \n",
            "(iter 56) loss: -1.94557 \n",
            "(iter 57) loss: -1.94549 \n",
            "(iter 58) loss: -1.94541 \n",
            "(iter 59) loss: -1.94532 \n",
            "(iter 60) loss: -1.94525 \n",
            "(iter 61) loss: -1.94514 \n",
            "(iter 62) loss: -1.94506 \n",
            "(iter 63) loss: -1.94498 \n",
            "(iter 64) loss: -1.94493 \n",
            "(iter 65) loss: -1.94485 \n",
            "(iter 66) loss: -1.94473 \n",
            "(iter 67) loss: -1.94464 \n",
            "(iter 68) loss: -1.94453 \n",
            "(iter 69) loss: -1.94442 \n",
            "(iter 70) loss: -1.94429 \n",
            "(iter 71) loss: -1.94418 \n",
            "(iter 72) loss: -1.94407 \n",
            "(iter 73) loss: -1.94391 \n",
            "(iter 74) loss: -1.94379 \n",
            "(iter 75) loss: -1.94369 \n",
            "(iter 76) loss: -1.94359 \n",
            "(iter 77) loss: -1.94348 \n",
            "(iter 78) loss: -1.94336 \n",
            "(iter 79) loss: -1.94323 \n",
            "(iter 80) loss: -1.9431 \n",
            "(iter 81) loss: -1.94294 \n",
            "(iter 82) loss: -1.94277 \n",
            "(iter 83) loss: -1.94264 \n",
            "(iter 84) loss: -1.94244 \n",
            "(iter 85) loss: -1.94226 \n",
            "(iter 86) loss: -1.94211 \n",
            "(iter 87) loss: -1.94196 \n",
            "(iter 88) loss: -1.94182 \n",
            "(iter 89) loss: -1.94173 \n",
            "(iter 90) loss: -1.94155 \n",
            "(iter 91) loss: -1.9413 \n",
            "(iter 92) loss: -1.94108 \n",
            "(iter 93) loss: -1.94085 \n",
            "(iter 94) loss: -1.94063 \n",
            "(iter 95) loss: -1.94043 \n",
            "(iter 96) loss: -1.94025 \n",
            "(iter 97) loss: -1.94008 \n",
            "(iter 98) loss: -1.93989 \n",
            "(iter 99) loss: -1.93967 \n"
          ],
          "name": "stdout"
        }
      ]
    },
    {
      "cell_type": "code",
      "metadata": {
        "id": "Wu4ET8kjjwok",
        "colab_type": "code",
        "colab": {
          "base_uri": "https://localhost:8080/",
          "height": 282
        },
        "outputId": "56f88454-3e7f-458a-db41-8e60b0821003"
      },
      "source": [
        "plt.plot(results)"
      ],
      "execution_count": 8,
      "outputs": [
        {
          "output_type": "execute_result",
          "data": {
            "text/plain": [
              "[<matplotlib.lines.Line2D at 0x7efd9b7afbe0>]"
            ]
          },
          "metadata": {
            "tags": []
          },
          "execution_count": 8
        },
        {
          "output_type": "display_data",
          "data": {
            "image/png": "[encoded data removed]",
            "text/plain": [
              "<Figure size 432x288 with 1 Axes>"
            ]
          },
          "metadata": {
            "tags": [],
            "needs_background": "light"
          }
        }
      ]
    },
    {
      "cell_type": "code",
      "metadata": {
        "id": "r6FvaFecl0Qo",
        "colab_type": "code",
        "colab": {
          "base_uri": "https://localhost:8080/",
          "height": 320
        },
        "outputId": "dc2b5167-69a0-4171-f621-383a8980de04"
      },
      "source": [
        "# order = np.argsort(pi_horse)[::-1]\n",
        "Pi_0 = torch.nn.functional.softmax(log_Pi_0)\n",
        "pi_0_trained = Pi_0.detach().numpy()\n",
        "\n",
        "order_trained = np.argsort(pi_0_trained)[::-1]\n",
        "\n",
        "rho_trained = Rho.detach().numpy()\n",
        "\n",
        "pi_0_trained_upper = pi_0_trained+rho_trained\n",
        "pi_0_trained_lower = pi_0_trained-rho_trained\n",
        "\n",
        "\n",
        "plt.subplot()\n",
        "width = 2\n",
        "barWidth = 0.9\n",
        "\n",
        "order = np.argsort(pi)[::-1]\n",
        "plt.errorbar( np.arange(1, K+1 ) , pi_0_trained[order_trained], yerr= pi_0_trained[order_trained]*rho_trained[order_trained], label = 'Trained pi_nom' )\n",
        "\n",
        "plt.legend(bbox_to_anchor=(1.05, 1), loc=2, borderaxespad=0.)\n",
        "\n",
        "plt.show()"
      ],
      "execution_count": 10,
      "outputs": [
        {
          "output_type": "stream",
          "text": [
            "/usr/local/lib/python3.6/dist-packages/ipykernel_launcher.py:2: UserWarning: Implicit dimension choice for softmax has been deprecated. Change the call to include dim=X as an argument.\n",
            "  \n"
          ],
          "name": "stderr"
        },
        {
          "output_type": "display_data",
          "data": {
            "image/png": "[encoded data removed]",
            "text/plain": [
              "<Figure size 432x288 with 1 Axes>"
            ]
          },
          "metadata": {
            "tags": [],
            "needs_background": "light"
          }
        }
      ]
    },
    {
      "cell_type": "code",
      "metadata": {
        "id": "vuBGQ-pomG7U",
        "colab_type": "code",
        "colab": {
          "base_uri": "https://localhost:8080/",
          "height": 1000
        },
        "outputId": "b5fbb3a1-91f1-47b9-8d82-43558fb226f0"
      },
      "source": [
        "\n",
        "# Initialize:\n",
        "Rho = torch.from_numpy(np.ones(K)*1e-3).requires_grad_(True)\n",
        "log_Pi_0 = torch.from_numpy(np.log(np.mean(Pi_test[0:10], axis=0)) ).requires_grad_(True)\n",
        "torch_variables = [log_Pi_0, Rho]\n",
        "R_torch = torch.from_numpy(R)\n",
        "Pi_test_torch = torch.from_numpy(Pi_test)\n",
        "# Loss: \n",
        "def evaluate( R_torch, log_Pi_0, Rho, Pi_test_torch):\n",
        "    Pi_0 = torch.nn.functional.softmax(log_Pi_0)\n",
        "    b, = policy(R_torch, Pi_0, Rho)\n",
        "    logs = torch.log(R_torch.T @ b)\n",
        "    cost = - torch.sum(Pi_test_torch*logs[None,:])\n",
        "    return   cost\n",
        "\n",
        "# Training:\n",
        "iters = 100\n",
        "results = []\n",
        "optimizer = torch.optim.Adam(torch_variables, lr=1e-4)\n",
        "for i in range(iters):\n",
        "    optimizer.zero_grad()\n",
        "    loss = evaluate(R_torch, log_Pi_0, Rho, Pi_test_torch)\n",
        "    loss.backward()\n",
        "    optimizer.step()\n",
        "    # Project so that Rho is non-negative \n",
        "    Rho.data = torch.max(Rho.data,torch.zeros_like(Rho.data))\n",
        "    results.append(loss.item())\n",
        "    print(\"(iter %d) loss: %g \" % (i, results[-1]))\n",
        " "
      ],
      "execution_count": 15,
      "outputs": [
        {
          "output_type": "stream",
          "text": [
            "/usr/local/lib/python3.6/dist-packages/ipykernel_launcher.py:10: UserWarning: Implicit dimension choice for softmax has been deprecated. Change the call to include dim=X as an argument.\n",
            "  # Remove the CWD from sys.path while we load stuff.\n"
          ],
          "name": "stderr"
        },
        {
          "output_type": "stream",
          "text": [
            "(iter 0) loss: -1.30232 \n",
            "(iter 1) loss: -1.24238 \n",
            "(iter 2) loss: -1.18423 \n",
            "(iter 3) loss: -1.13058 \n",
            "(iter 4) loss: -1.0681 \n",
            "(iter 5) loss: -1.00049 \n",
            "(iter 6) loss: -0.930345 \n",
            "(iter 7) loss: -0.863941 \n",
            "(iter 8) loss: -0.791166 \n",
            "(iter 9) loss: -0.709167 \n",
            "(iter 10) loss: -0.610092 \n",
            "(iter 11) loss: -0.575866 \n",
            "(iter 12) loss: -0.562166 \n",
            "(iter 13) loss: -0.552255 \n",
            "(iter 14) loss: -0.545144 \n",
            "(iter 15) loss: -0.538171 \n",
            "(iter 16) loss: -0.53157 \n",
            "(iter 17) loss: -0.526111 \n",
            "(iter 18) loss: -0.520773 \n",
            "(iter 19) loss: -0.515206 \n",
            "(iter 20) loss: -0.509765 \n",
            "(iter 21) loss: -0.504358 \n",
            "(iter 22) loss: -0.498784 \n",
            "(iter 23) loss: -0.493708 \n",
            "(iter 24) loss: -0.488714 \n",
            "(iter 25) loss: -0.483956 \n",
            "(iter 26) loss: -0.479816 \n",
            "(iter 27) loss: -0.475128 \n",
            "(iter 28) loss: -0.46996 \n",
            "(iter 29) loss: -0.465442 \n",
            "(iter 30) loss: -0.460923 \n",
            "(iter 31) loss: -0.456373 \n",
            "(iter 32) loss: -0.452488 \n",
            "(iter 33) loss: -0.448794 \n",
            "(iter 34) loss: -0.445471 \n",
            "(iter 35) loss: -0.442404 \n",
            "(iter 36) loss: -0.439715 \n",
            "(iter 37) loss: -0.436926 \n",
            "(iter 38) loss: -0.434117 \n",
            "(iter 39) loss: -0.431212 \n",
            "(iter 40) loss: -0.428226 \n",
            "(iter 41) loss: -0.42508 \n",
            "(iter 42) loss: -0.422048 \n",
            "(iter 43) loss: -0.419122 \n",
            "(iter 44) loss: -0.416339 \n",
            "(iter 45) loss: -0.413572 \n",
            "(iter 46) loss: -0.41093 \n",
            "(iter 47) loss: -0.408738 \n",
            "(iter 48) loss: -0.406489 \n",
            "(iter 49) loss: -0.404182 \n",
            "(iter 50) loss: -0.401837 \n",
            "(iter 51) loss: -0.399499 \n",
            "(iter 52) loss: -0.397094 \n",
            "(iter 53) loss: -0.394688 \n"
          ],
          "name": "stdout"
        },
        {
          "output_type": "stream",
          "text": [
            "/usr/local/lib/python3.6/dist-packages/diffcp/cone_program.py:259: UserWarning: Solved/Inaccurate.\n",
            "  warnings.warn(\"Solved/Inaccurate.\")\n"
          ],
          "name": "stderr"
        },
        {
          "output_type": "stream",
          "text": [
            "(iter 54) loss: -0.392342 \n",
            "(iter 55) loss: -0.390033 \n",
            "(iter 56) loss: -0.387606 \n",
            "(iter 57) loss: -0.3851 \n",
            "(iter 58) loss: -0.382662 \n",
            "(iter 59) loss: -0.380224 \n",
            "(iter 60) loss: -0.377732 \n",
            "(iter 61) loss: -0.375181 \n",
            "(iter 62) loss: -0.372581 \n",
            "(iter 63) loss: -0.370047 \n",
            "(iter 64) loss: -0.367447 \n",
            "(iter 65) loss: -0.364828 \n",
            "(iter 66) loss: -0.362096 \n",
            "(iter 67) loss: -0.359468 \n",
            "(iter 68) loss: -0.356858 \n",
            "(iter 69) loss: -0.354209 \n",
            "(iter 70) loss: -0.351637 \n",
            "(iter 71) loss: -0.349017 \n",
            "(iter 72) loss: -0.346383 \n",
            "(iter 73) loss: -0.343796 \n",
            "(iter 74) loss: -0.341068 \n",
            "(iter 75) loss: -0.338683 \n",
            "(iter 76) loss: -0.336504 \n",
            "(iter 77) loss: -0.334086 \n",
            "(iter 78) loss: -0.331365 \n",
            "(iter 79) loss: -0.328955 \n",
            "(iter 80) loss: -0.326708 \n",
            "(iter 81) loss: -0.324381 \n",
            "(iter 82) loss: -0.32202 \n",
            "(iter 83) loss: -0.319671 \n",
            "(iter 84) loss: -0.317503 \n",
            "(iter 85) loss: -0.315191 \n",
            "(iter 86) loss: -0.312782 \n",
            "(iter 87) loss: -0.310312 \n",
            "(iter 88) loss: -0.307778 \n",
            "(iter 89) loss: -0.305165 \n",
            "(iter 90) loss: -0.302545 \n",
            "(iter 91) loss: -0.300116 \n",
            "(iter 92) loss: -0.298729 \n",
            "(iter 93) loss: -0.297481 \n",
            "(iter 94) loss: -0.296201 \n",
            "(iter 95) loss: -0.295163 \n",
            "(iter 96) loss: -0.293917 \n",
            "(iter 97) loss: -0.292797 \n",
            "(iter 98) loss: -0.291552 \n",
            "(iter 99) loss: -0.29054 \n"
          ],
          "name": "stdout"
        }
      ]
    },
    {
      "cell_type": "code",
      "metadata": {
        "id": "10Hlw1VOoLpD",
        "colab_type": "code",
        "colab": {
          "base_uri": "https://localhost:8080/",
          "height": 282
        },
        "outputId": "7159d1a0-92c0-4cfc-cb01-2a8547f4b0a3"
      },
      "source": [
        "plt.plot(results)"
      ],
      "execution_count": 16,
      "outputs": [
        {
          "output_type": "execute_result",
          "data": {
            "text/plain": [
              "[<matplotlib.lines.Line2D at 0x7efd9804a710>]"
            ]
          },
          "metadata": {
            "tags": []
          },
          "execution_count": 16
        },
        {
          "output_type": "display_data",
          "data": {
            "image/png": "[encoded data removed]",
            "text/plain": [
              "<Figure size 432x288 with 1 Axes>"
            ]
          },
          "metadata": {
            "tags": [],
            "needs_background": "light"
          }
        }
      ]
    },
    {
      "cell_type": "code",
      "metadata": {
        "id": "NUaEPgOYodUV",
        "colab_type": "code",
        "colab": {
          "base_uri": "https://localhost:8080/",
          "height": 320
        },
        "outputId": "2fb7515f-ed7a-4572-d29e-9d930f804265"
      },
      "source": [
        "# order = np.argsort(pi_horse)[::-1]\n",
        "Pi_0 = torch.nn.functional.softmax(log_Pi_0)\n",
        "pi_0_trained = Pi_0.detach().numpy()\n",
        "\n",
        "order_trained = np.argsort(pi_0_trained)[::-1]\n",
        "\n",
        "rho_trained = Rho.detach().numpy()\n",
        "\n",
        "pi_0_trained_upper = pi_0_trained+rho_trained\n",
        "pi_0_trained_lower = pi_0_trained-rho_trained\n",
        "\n",
        "\n",
        "plt.subplot()\n",
        "width = 2\n",
        "barWidth = 0.9\n",
        "\n",
        "order = np.argsort(pi)[::-1]\n",
        "plt.errorbar( np.arange(1, K+1 ) , pi_0_trained[order_trained], yerr= pi_0_trained[order_trained]*rho_trained[order_trained], label = 'Trained pi_nom' )\n",
        "\n",
        "plt.legend(bbox_to_anchor=(1.05, 1), loc=2, borderaxespad=0.)\n",
        "\n",
        "plt.show()"
      ],
      "execution_count": 17,
      "outputs": [
        {
          "output_type": "stream",
          "text": [
            "/usr/local/lib/python3.6/dist-packages/ipykernel_launcher.py:2: UserWarning: Implicit dimension choice for softmax has been deprecated. Change the call to include dim=X as an argument.\n",
            "  \n"
          ],
          "name": "stderr"
        },
        {
          "output_type": "display_data",
          "data": {
            "image/png": "[encoded data removed]",
            "text/plain": [
              "<Figure size 432x288 with 1 Axes>"
            ]
          },
          "metadata": {
            "tags": [],
            "needs_background": "light"
          }
        }
      ]
    },
    {
      "cell_type": "code",
      "metadata": {
        "id": "YkkrAOBqoh-j",
        "colab_type": "code",
        "colab": {
          "base_uri": "https://localhost:8080/",
          "height": 320
        },
        "outputId": "88f928b5-cf87-4a63-f9ff-91f1eb260e88"
      },
      "source": [
        "# order = np.argsort(pi_horse)[::-1]\n",
        "Pi_0 = torch.nn.functional.softmax(log_Pi_0)\n",
        "pi_0_trained = Pi_0.detach().numpy()\n",
        "\n",
        "order_trained = np.argsort(pi_0_trained)[::-1]\n",
        "\n",
        "rho_trained = Rho.detach().numpy()\n",
        "\n",
        "pi_0_trained_upper = pi_0_trained+rho_trained\n",
        "pi_0_trained_lower = pi_0_trained-rho_trained\n",
        "\n",
        "\n",
        "plt.subplot()\n",
        "width = 2\n",
        "barWidth = 0.9\n",
        "\n",
        "order = np.argsort(pi)[::-1]\n",
        "plt.errorbar( np.arange(1, K+1 ) , pi_0_trained[order_trained], yerr= pi_0_trained[order_trained]*rho_trained[order_trained], label = 'Trained pi_nom' )\n",
        "\n",
        "plt.legend(bbox_to_anchor=(1.05, 1), loc=2, borderaxespad=0.)\n",
        "\n",
        "plt.show()"
      ],
      "execution_count": 18,
      "outputs": [
        {
          "output_type": "stream",
          "text": [
            "/usr/local/lib/python3.6/dist-packages/ipykernel_launcher.py:2: UserWarning: Implicit dimension choice for softmax has been deprecated. Change the call to include dim=X as an argument.\n",
            "  \n"
          ],
          "name": "stderr"
        },
        {
          "output_type": "display_data",
          "data": {
            "image/png": "[encoded data removed]",
            "text/plain": [
              "<Figure size 432x288 with 1 Axes>"
            ]
          },
          "metadata": {
            "tags": [],
            "needs_background": "light"
          }
        }
      ]
    }
  ]
}