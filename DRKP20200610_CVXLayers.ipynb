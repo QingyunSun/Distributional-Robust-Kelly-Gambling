{
  "nbformat": 4,
  "nbformat_minor": 0,
  "metadata": {
    "colab": {
      "name": "DRKP20200610_CVXLayers",
      "provenance": [],
      "collapsed_sections": [],
      "include_colab_link": true
    },
    "kernelspec": {
      "name": "python3",
      "display_name": "Python 3"
    },
    "accelerator": "TPU"
  },
  "cells": [
    {
      "cell_type": "markdown",
      "metadata": {
        "id": "view-in-github",
        "colab_type": "text"
      },
      "source": [
        "<a href=\"https://colab.research.google.com/github/QingyunSun/Distributional-Robust-Kelly-Gambling/blob/master/DRKP20200610_CVXLayers.ipynb\" target=\"_parent\"><img src=\"https://colab.research.google.com/assets/colab-badge.svg\" alt=\"Open In Colab\"/></a>"
      ]
    },
    {
      "cell_type": "code",
      "metadata": {
        "id": "0wJtnd39Giza",
        "colab_type": "code",
        "outputId": "fc101549-821f-4a49-b5de-5c474c5c8e39",
        "colab": {
          "base_uri": "https://localhost:8080/",
          "height": 229
        }
      },
      "source": [
        "!pip install --upgrade cvxpy\n",
        "\n",
        "get_ipython().run_line_magic('pylab', 'inline')\n",
        "import numpy as np\n",
        "import cvxpy as cvx\n",
        "import itertools\n",
        "import torch\n",
        "from tqdm.notebook import tqdm\n",
        "\n",
        "\n"
      ],
      "execution_count": 20,
      "outputs": [
        {
          "output_type": "stream",
          "text": [
            "Requirement already up-to-date: cvxpy in /usr/local/lib/python3.6/dist-packages (1.1.1)\n",
            "Requirement already satisfied, skipping upgrade: osqp>=0.4.1 in /usr/local/lib/python3.6/dist-packages (from cvxpy) (0.6.1)\n",
            "Requirement already satisfied, skipping upgrade: scs>=1.1.3 in /usr/local/lib/python3.6/dist-packages (from cvxpy) (2.1.2)\n",
            "Requirement already satisfied, skipping upgrade: ecos>=2 in /usr/local/lib/python3.6/dist-packages (from cvxpy) (2.0.7.post1)\n",
            "Requirement already satisfied, skipping upgrade: numpy>=1.15 in /usr/local/lib/python3.6/dist-packages (from cvxpy) (1.18.5)\n",
            "Requirement already satisfied, skipping upgrade: scipy>=1.1.0 in /usr/local/lib/python3.6/dist-packages (from cvxpy) (1.4.1)\n",
            "Requirement already satisfied, skipping upgrade: future in /usr/local/lib/python3.6/dist-packages (from osqp>=0.4.1->cvxpy) (0.16.0)\n",
            "Populating the interactive namespace from numpy and matplotlib\n"
          ],
          "name": "stdout"
        },
        {
          "output_type": "stream",
          "text": [
            "/usr/local/lib/python3.6/dist-packages/IPython/core/magics/pylab.py:161: UserWarning: pylab import has clobbered these variables: ['seed', 'pi', 'std', 'beta']\n",
            "`%matplotlib` prevents importing * from pylab and numpy\n",
            "  \"\\n`%matplotlib` prevents importing * from pylab and numpy\"\n"
          ],
          "name": "stderr"
        }
      ]
    },
    {
      "cell_type": "code",
      "metadata": {
        "id": "78Gnk_XiZiuJ",
        "colab_type": "code",
        "outputId": "0a40b79d-465c-4ae2-bc1a-aaf18f344279",
        "colab": {
          "base_uri": "https://localhost:8080/",
          "height": 34
        }
      },
      "source": [
        "cvx.__version__"
      ],
      "execution_count": 21,
      "outputs": [
        {
          "output_type": "execute_result",
          "data": {
            "text/plain": [
              "'1.1.1'"
            ]
          },
          "metadata": {
            "tags": []
          },
          "execution_count": 21
        }
      ]
    },
    {
      "cell_type": "code",
      "metadata": {
        "id": "1sKC8oiWwewc",
        "colab_type": "code",
        "colab": {}
      },
      "source": [
        "\n",
        "n = 20 # number of assets\n",
        "K = int(n*(n-1)/2)# number of scenarios\n",
        "\n",
        "# Monte Carlo sample\n",
        "MC_N_SAMPLES = 100\n",
        "MC_T = 50\n",
        "\n",
        "N_TRAJ = 30\n",
        "\n",
        "M = 1\n",
        "\n",
        "import cvxpy as cvx\n",
        "from cvxpylayers.torch import CvxpyLayer\n",
        "# generate_ball_problem\n",
        "pi_0 = cvx.Parameter(K, nonneg=True)\n",
        "# rho_log = cvx.Parameter(K)\n",
        "# rho = cvx.exp(rho_log)\n",
        "rho = cvx.Parameter(K, nonneg=True)\n",
        "R_cvx = cvx.Parameter((n,K), nonneg=True)\n",
        "\n",
        "\n",
        "b = cvx.Variable(n)\n",
        "mu = cvx.Variable(K)\n",
        "log_growth = cvx.log(R_cvx.T@b )\n",
        "rob_growth_rate = cvx.min(log_growth + mu  )\n",
        "rob_growth_rate = rob_growth_rate - pi_0.T@mu - rho.T@cvx.abs(mu)\n",
        "constraints = [cvx.sum(b) == 1, b >= 0] \n",
        "DRKP = cvx.Problem(cvx.Maximize(rob_growth_rate), constraints)\n",
        "\n",
        "problem = DRKP\n",
        "parameters=[R_cvx, pi_0, rho]\n",
        "\n",
        "# assert problem.is_dcp()\n",
        "policy =  CvxpyLayer(problem, parameters, [b])"
      ],
      "execution_count": 0,
      "outputs": []
    },
    {
      "cell_type": "code",
      "metadata": {
        "id": "6g4S2BbSgopp",
        "colab_type": "code",
        "outputId": "7d9233e6-283f-4a4b-837c-751d35455205",
        "colab": {
          "base_uri": "https://localhost:8080/",
          "height": 34
        }
      },
      "source": [
        "# # Definitions \n",
        "def softmax(x):\n",
        "    \"\"\"Compute softmax values for each sets of scores in x.\"\"\"\n",
        "    e_x = np.exp(x - np.max(x))\n",
        "    return e_x / e_x.sum()\n",
        "    \n",
        "std = 0.5\n",
        "seed = 2018\n",
        "print('seed', seed)\n",
        "np.random.seed(seed)\n",
        "skill = np.random.randn(n)\n",
        "beta = softmax( std*(skill))\n",
        "\n",
        "\n",
        "TopTwoList = list(itertools.combinations(range(n),2))\n",
        "\n",
        "pi = np.ones(K)\n",
        "r = np.zeros((n,K))\n",
        "\n",
        "for count in range(len(TopTwoList)):\n",
        "    vector = np.zeros(n)\n",
        "    first_place = TopTwoList[count][0]\n",
        "    second_place = TopTwoList[count][1]\n",
        "    total = beta[first_place]+beta[second_place]\n",
        "    vector[first_place] = n*beta[second_place]/total\n",
        "    vector[second_place] = n*beta[first_place]/total\n",
        "    r[:,count]=vector\n",
        "\n",
        "    pi[count] = beta[second_place]*beta[first_place]*(1/(1-beta[first_place])+ 1/(1-beta[second_place]))\n",
        "    \n",
        "pi /= sum(pi)\n",
        "pi_horse = pi.copy()\n",
        "\n",
        "mc_index = np.random.choice(r.shape[1], size = MC_N_SAMPLES * MC_T, p = pi)\n",
        "T = MC_N_SAMPLES * MC_T\n",
        "R = r.copy()"
      ],
      "execution_count": 23,
      "outputs": [
        {
          "output_type": "stream",
          "text": [
            "seed 2018\n"
          ],
          "name": "stdout"
        }
      ]
    },
    {
      "cell_type": "code",
      "metadata": {
        "id": "2COOfROn41-I",
        "colab_type": "code",
        "outputId": "8fa02bdd-258d-4b0e-d346-6c0ba386a195",
        "colab": {
          "base_uri": "https://localhost:8080/",
          "height": 34
        }
      },
      "source": [
        "seed = 2020\n",
        "print('seed', seed)\n",
        "np.random.seed(seed)\n",
        "NUM_TEST = 20\n",
        "pi_test_list = []\n",
        "for count in range(NUM_TEST):\n",
        "    skill_test = np.random.randn(n)\n",
        "    std = 1\n",
        "    beta = softmax( std*(skill_test))\n",
        "\n",
        "\n",
        "    TopTwoList = list(itertools.combinations(range(n),2))\n",
        "\n",
        "    pi = np.ones(K)\n",
        "    r = np.zeros((n,K))\n",
        "\n",
        "    for count in range(len(TopTwoList)):\n",
        "        vector = np.zeros(n)\n",
        "        first_place = TopTwoList[count][0]\n",
        "        second_place = TopTwoList[count][1]\n",
        "        total = beta[first_place]+beta[second_place]\n",
        "        vector[first_place] = n*beta[second_place]/total\n",
        "        vector[second_place] = n*beta[first_place]/total\n",
        "        r[:,count]=vector\n",
        "\n",
        "        pi[count] = beta[second_place]*beta[first_place]*(1/(1-beta[first_place])+ 1/(1-beta[second_place]))\n",
        "        \n",
        "    pi /= sum(pi)\n",
        "    pi_test_list.append( pi.copy() )\n",
        "\n",
        "Pi_test = np.stack( pi_test_list ,axis=0)   "
      ],
      "execution_count": 26,
      "outputs": [
        {
          "output_type": "stream",
          "text": [
            "seed 2020\n"
          ],
          "name": "stdout"
        }
      ]
    },
    {
      "cell_type": "code",
      "metadata": {
        "id": "q2PDi3bv4yLT",
        "colab_type": "code",
        "colab": {}
      },
      "source": [
        "# Initialize:\n",
        "Rho = torch.from_numpy(np.ones(K)*1e-4).requires_grad_(True)\n",
        "log_Pi_0 = torch.from_numpy(np.zeros(K)).requires_grad_(True)\n",
        "torch_variables = [log_Pi_0, Rho]\n",
        "R_torch = torch.from_numpy(R)\n",
        "Pi_test_torch = torch.from_numpy(Pi_test)\n",
        "# Loss: \n",
        "def evaluate( R_torch, log_Pi_0, Rho, Pi_test_torch):\n",
        "    Pi_0 = torch.nn.functional.softmax(log_Pi_0)\n",
        "    b, = policy(R_torch, Pi_0, Rho)\n",
        "    logs = torch.log(R_torch.T @ b)\n",
        "    cost = torch.sum(Pi_test_torch*logs[None,:])\n",
        "    return   cost\n",
        "\n",
        "# Training:\n",
        "iters = 50\n",
        "results = []\n",
        "optimizer = torch.optim.Adam(torch_variables, lr=1e-4)\n",
        "for i in range(iters):\n",
        "    optimizer.zero_grad()\n",
        "    loss = evaluate(R_torch, log_Pi_0, Rho, Pi_test_torch)\n",
        "    loss.backward()\n",
        "    optimizer.step()\n",
        "    # Project so that Rho is non-negative \n",
        "    Rho.data = torch.max(Rho.data,torch.zeros_like(Rho.data))\n",
        "    results.append(loss.item())\n",
        "    # print(\"(iter %d) loss: %g \" % (i, results[-1]))\n",
        " "
      ],
      "execution_count": 0,
      "outputs": []
    },
    {
      "cell_type": "code",
      "metadata": {
        "id": "MC8ECSpJ_j1F",
        "colab_type": "code",
        "colab": {
          "base_uri": "https://localhost:8080/",
          "height": 336
        },
        "outputId": "2234434a-6a57-4241-d5ff-ba43dfe455f3"
      },
      "source": [
        "# order = np.argsort(pi_horse)[::-1]\n",
        "Pi_0 = torch.nn.functional.softmax(log_Pi_0)\n",
        "pi_0_trained = Pi_0.detach().numpy()\n",
        "\n",
        "order_trained = np.argsort(pi_0_trained)[::-1]\n",
        "\n",
        "rho_trained = Rho.detach().numpy()\n",
        "\n",
        "pi_0_trained_upper = pi_0_trained+rho_trained\n",
        "pi_0_trained_lower = pi_0_trained-rho_trained\n",
        "\n",
        "plt.subplot()\n",
        "width = 2\n",
        "barWidth = 5\n",
        "\n",
        "order = np.argsort(pi)[::-1]\n",
        "plt.errorbar( np.arange(1, K+1 ) , pi_0_trained[order_trained], yerr= pi_0_trained[order_trained]*rho_trained[order_trained], label = 'pi_nom' )\n",
        "\n",
        "plt.legend(bbox_to_anchor=(1.05, 1), loc=2, borderaxespad=0.)\n",
        "plt.title('Trained pi_nom from CVXPYLayers')\n",
        "plt.show()\n"
      ],
      "execution_count": 38,
      "outputs": [
        {
          "output_type": "stream",
          "text": [
            "/usr/local/lib/python3.6/dist-packages/ipykernel_launcher.py:2: UserWarning: Implicit dimension choice for softmax has been deprecated. Change the call to include dim=X as an argument.\n",
            "  \n"
          ],
          "name": "stderr"
        },
        {
          "output_type": "display_data",
          "data": {
            "image/png": "[encoded data removed]",
            "text/plain": [
              "<Figure size 432x288 with 1 Axes>"
            ]
          },
          "metadata": {
            "tags": [],
            "needs_background": "light"
          }
        }
      ]
    },
    {
      "cell_type": "code",
      "metadata": {
        "id": "wbkbMF08Iyro",
        "colab_type": "code",
        "colab": {}
      },
      "source": [
        "\n",
        "# Initialize:\n",
        "Rho = torch.from_numpy(np.ones(K)*1e-1)\n",
        "log_Pi_0 = torch.from_numpy( np.log(np.mean(Pi_test, axis=0)) ).requires_grad_(True)\n",
        "torch_variables = [log_Pi_0, Rho]\n",
        "R_torch = torch.from_numpy(R)\n",
        "Pi_test_torch = torch.from_numpy(Pi_test)\n",
        "# Loss: \n",
        "def evaluate( R_torch, log_Pi_0, Rho, Pi_test_torch):\n",
        "    Pi_0 = torch.nn.functional.softmax(log_Pi_0)\n",
        "    b, = policy(R_torch, Pi_0, Rho)\n",
        "    logs = torch.log(R_torch.T @ b)\n",
        "    cost = - torch.sum(Pi_test_torch*logs[None,:])\n",
        "    return   cost\n",
        "\n",
        "# Training:\n",
        "iters = 160\n",
        "results = []\n",
        "optimizer = torch.optim.Adam(torch_variables, lr=1e-6)\n",
        "for i in range(iters):\n",
        "    optimizer.zero_grad()\n",
        "    loss = evaluate(R_torch, log_Pi_0, Rho, Pi_test_torch)\n",
        "    loss.backward()\n",
        "    optimizer.step()\n",
        "    # Project so that Rho is non-negative \n",
        "    Rho.data = torch.max(Rho.data,torch.zeros_like(Rho.data))\n",
        "    results.append(loss.item())\n",
        "     \n",
        " "
      ],
      "execution_count": 0,
      "outputs": []
    },
    {
      "cell_type": "code",
      "metadata": {
        "id": "Y2r9_76wJjOV",
        "colab_type": "code",
        "colab": {
          "base_uri": "https://localhost:8080/",
          "height": 293
        },
        "outputId": "a8fa7210-35e0-423a-c83a-cdb84deedc2f"
      },
      "source": [
        "plt.plot(results)"
      ],
      "execution_count": 92,
      "outputs": [
        {
          "output_type": "execute_result",
          "data": {
            "text/plain": [
              "[<matplotlib.lines.Line2D at 0x7efd9731f080>]"
            ]
          },
          "metadata": {
            "tags": []
          },
          "execution_count": 92
        },
        {
          "output_type": "display_data",
          "data": {
            "image/png": "[encoded data removed]",
            "text/plain": [
              "<Figure size 432x288 with 1 Axes>"
            ]
          },
          "metadata": {
            "tags": [],
            "needs_background": "light"
          }
        }
      ]
    },
    {
      "cell_type": "code",
      "metadata": {
        "id": "ebh9QEOvJr38",
        "colab_type": "code",
        "colab": {
          "base_uri": "https://localhost:8080/",
          "height": 336
        },
        "outputId": "d5df5724-61bf-4ae7-ef40-261bb988e049"
      },
      "source": [
        " \n",
        "Pi_0 = torch.nn.functional.softmax(log_Pi_0)\n",
        "pi_0_trained = Pi_0.detach().numpy()\n",
        "\n",
        "order_trained = np.argsort(pi_0_trained)[::-1]\n",
        "\n",
        "rho_trained = Rho.detach().numpy()\n",
        "\n",
        "pi_0_trained_upper = pi_0_trained+rho_trained\n",
        "pi_0_trained_lower = pi_0_trained-rho_trained\n",
        "\n",
        "plt.subplot()\n",
        "width = 2\n",
        "barWidth = 5\n",
        "\n",
        "order = np.argsort(pi)[::-1]\n",
        "plt.errorbar( np.arange(1, K+1 ) , pi_0_trained[order_trained], yerr= pi_0_trained[order_trained]*rho_trained[order_trained], label = 'pi_nom' )\n",
        "\n",
        "plt.legend(bbox_to_anchor=(1.05, 1), loc=2, borderaxespad=0.)\n",
        "plt.title('Trained pi_nom from CVXPYLayers')\n",
        "plt.show()\n"
      ],
      "execution_count": 93,
      "outputs": [
        {
          "output_type": "stream",
          "text": [
            "/usr/local/lib/python3.6/dist-packages/ipykernel_launcher.py:2: UserWarning: Implicit dimension choice for softmax has been deprecated. Change the call to include dim=X as an argument.\n",
            "  \n"
          ],
          "name": "stderr"
        },
        {
          "output_type": "display_data",
          "data": {
            "image/png": "[encoded data removed]",
            "text/plain": [
              "<Figure size 432x288 with 1 Axes>"
            ]
          },
          "metadata": {
            "tags": [],
            "needs_background": "light"
          }
        }
      ]
    },
    {
      "cell_type": "code",
      "metadata": {
        "id": "jDTXzjHiJAJu",
        "colab_type": "code",
        "colab": {
          "base_uri": "https://localhost:8080/",
          "height": 293
        },
        "outputId": "1eb3f624-fc28-4c32-beb0-1f9da7d11c34"
      },
      "source": [
        "plt.plot(results)"
      ],
      "execution_count": 89,
      "outputs": [
        {
          "output_type": "execute_result",
          "data": {
            "text/plain": [
              "[<matplotlib.lines.Line2D at 0x7efd973b02b0>]"
            ]
          },
          "metadata": {
            "tags": []
          },
          "execution_count": 89
        },
        {
          "output_type": "display_data",
          "data": {
            "image/png": "[encoded data removed]",
            "text/plain": [
              "<Figure size 432x288 with 1 Axes>"
            ]
          },
          "metadata": {
            "tags": [],
            "needs_background": "light"
          }
        }
      ]
    },
    {
      "cell_type": "code",
      "metadata": {
        "id": "wIPd_d4qO4b9",
        "colab_type": "code",
        "colab": {
          "base_uri": "https://localhost:8080/",
          "height": 1000
        },
        "outputId": "1f297ca6-5ccb-400b-e9d5-59785bf0bb07"
      },
      "source": [
        "\n",
        "# Initialize:\n",
        "Rho = torch.from_numpy(np.ones(K)*1e-2).requires_grad_(True)\n",
        "log_Pi_0 = torch.from_numpy( np.log(np.mean(Pi_test, axis=0)) )\n",
        "torch_variables = [log_Pi_0, Rho]\n",
        "R_torch = torch.from_numpy(R)\n",
        "Pi_test_torch = torch.from_numpy(Pi_test)\n",
        "# Loss: \n",
        "def evaluate( R_torch, log_Pi_0, Rho, Pi_test_torch):\n",
        "    Pi_0 = torch.nn.functional.softmax(log_Pi_0)\n",
        "    b, = policy(R_torch, Pi_0, Rho)\n",
        "    logs = torch.log(R_torch.T @ b)\n",
        "    cost = - torch.sum(Pi_test_torch*logs[None,:])\n",
        "    return   cost\n",
        "\n",
        "# Training:\n",
        "iters = 50\n",
        "results = []\n",
        "optimizer = torch.optim.Adam(torch_variables, lr=1e-6)\n",
        "for i in range(iters):\n",
        "    optimizer.zero_grad()\n",
        "    loss = evaluate(R_torch, log_Pi_0, Rho, Pi_test_torch)\n",
        "    loss.backward()\n",
        "    optimizer.step()\n",
        "    # Project so that Rho is non-negative \n",
        "    Rho.data = torch.max(Rho.data,torch.zeros_like(Rho.data))\n",
        "    results.append(loss.item())\n",
        "    print(\"(iter %d) loss: %g \" % (i, results[-1]))\n",
        " \n",
        "\n",
        "\n",
        "\n",
        "\n",
        "\n",
        "# order = np.argsort(pi_horse)[::-1]\n",
        "Pi_0 = torch.nn.functional.softmax(log_Pi_0)\n",
        "pi_0_trained = Pi_0.detach().numpy()\n",
        "\n",
        "order_trained = np.argsort(pi_0_trained)[::-1]\n",
        "\n",
        "rho_trained = Rho.detach().numpy()\n",
        "\n",
        "pi_0_trained_upper = pi_0_trained+rho_trained\n",
        "pi_0_trained_lower = pi_0_trained-rho_trained\n",
        "\n",
        "plt.subplot()\n",
        "width = 2\n",
        "barWidth = 5\n",
        "\n",
        "order = np.argsort(pi)[::-1]\n",
        "plt.errorbar( np.arange(1, K+1 ) , pi_0_trained[order_trained], yerr= pi_0_trained[order_trained]*rho_trained[order_trained], label = 'pi_nom' )\n",
        "\n",
        "plt.legend(bbox_to_anchor=(1.05, 1), loc=2, borderaxespad=0.)\n",
        "plt.title('Trained pi_nom from CVXPYLayers')\n",
        "plt.grid()\n",
        "plt.show()\n",
        "\n",
        "plt.plot(results )\n",
        "plt.title('Training loss')\n",
        "plt.grid()\n",
        "plt.show()\n"
      ],
      "execution_count": 135,
      "outputs": [
        {
          "output_type": "stream",
          "text": [
            "/usr/local/lib/python3.6/dist-packages/ipykernel_launcher.py:10: UserWarning: Implicit dimension choice for softmax has been deprecated. Change the call to include dim=X as an argument.\n",
            "  # Remove the CWD from sys.path while we load stuff.\n"
          ],
          "name": "stderr"
        },
        {
          "output_type": "stream",
          "text": [
            "(iter 0) loss: 1.46575e-11 \n",
            "(iter 1) loss: 4.05989e-09 \n",
            "(iter 2) loss: -3.92501e-09 \n",
            "(iter 3) loss: 2.9974e-10 \n",
            "(iter 4) loss: -2.99795e-09 \n",
            "(iter 5) loss: -1.286e-09 \n",
            "(iter 6) loss: -3.555e-09 \n",
            "(iter 7) loss: -6.00079e-09 \n",
            "(iter 8) loss: -7.28218e-09 \n",
            "(iter 9) loss: -6.026e-09 \n",
            "(iter 10) loss: -9.25404e-09 \n",
            "(iter 11) loss: -1.257e-08 \n",
            "(iter 12) loss: -1.30484e-08 \n",
            "(iter 13) loss: -1.36508e-08 \n",
            "(iter 14) loss: -1.45596e-08 \n",
            "(iter 15) loss: -1.49152e-08 \n",
            "(iter 16) loss: -1.65922e-08 \n",
            "(iter 17) loss: -1.75623e-08 \n",
            "(iter 18) loss: -1.8555e-08 \n",
            "(iter 19) loss: -1.80029e-08 \n",
            "(iter 20) loss: -1.91127e-08 \n",
            "(iter 21) loss: -1.979e-08 \n",
            "(iter 22) loss: -2.14284e-08 \n",
            "(iter 23) loss: -2.33379e-08 \n",
            "(iter 24) loss: -2.40969e-08 \n",
            "(iter 25) loss: -2.72987e-08 \n",
            "(iter 26) loss: -2.80728e-08 \n",
            "(iter 27) loss: -2.87882e-08 \n",
            "(iter 28) loss: -3.21956e-08 \n",
            "(iter 29) loss: -3.30433e-08 \n",
            "(iter 30) loss: -3.13633e-08 \n",
            "(iter 31) loss: -3.70404e-08 \n",
            "(iter 32) loss: -3.71752e-08 \n",
            "(iter 33) loss: -3.97306e-08 \n",
            "(iter 34) loss: -3.78137e-08 \n",
            "(iter 35) loss: -4.14331e-08 \n",
            "(iter 36) loss: -4.3038e-08 \n",
            "(iter 37) loss: -4.38827e-08 \n",
            "(iter 38) loss: -4.59974e-08 \n",
            "(iter 39) loss: -4.82632e-08 \n",
            "(iter 40) loss: -4.83533e-08 \n",
            "(iter 41) loss: -5.03376e-08 \n",
            "(iter 42) loss: -5.37727e-08 \n",
            "(iter 43) loss: -5.48992e-08 \n",
            "(iter 44) loss: -5.40627e-08 \n",
            "(iter 45) loss: -5.60984e-08 \n",
            "(iter 46) loss: -5.55084e-08 \n",
            "(iter 47) loss: -5.79119e-08 \n",
            "(iter 48) loss: -5.8635e-08 \n",
            "(iter 49) loss: -5.82792e-08 \n"
          ],
          "name": "stdout"
        },
        {
          "output_type": "stream",
          "text": [
            "/usr/local/lib/python3.6/dist-packages/ipykernel_launcher.py:36: UserWarning: Implicit dimension choice for softmax has been deprecated. Change the call to include dim=X as an argument.\n"
          ],
          "name": "stderr"
        },
        {
          "output_type": "display_data",
          "data": {
            "image/png": "[encoded data removed]",
            "text/plain": [
              "<Figure size 432x288 with 1 Axes>"
            ]
          },
          "metadata": {
            "tags": [],
            "needs_background": "light"
          }
        },
        {
          "output_type": "display_data",
          "data": {
            "image/png": "[encoded data removed]",
            "text/plain": [
              "<Figure size 432x288 with 1 Axes>"
            ]
          },
          "metadata": {
            "tags": [],
            "needs_background": "light"
          }
        }
      ]
    }
  ]
}